{
 "cells": [
  {
   "cell_type": "markdown",
   "id": "e013a313-be02-48ae-aad6-7c5b3cabcd07",
   "metadata": {},
   "source": [
    "# Data Science Tools and Ecosystem"
   ]
  },
  {
   "cell_type": "markdown",
   "id": "6ad1ec2c-7da9-4b34-94a3-9be45affeb86",
   "metadata": {},
   "source": [
    "In this notebook, Data Science Tools and Ecosystem are summarized."
   ]
  },
  {
   "cell_type": "markdown",
   "id": "2ce628dc-a428-42cf-af14-48b366d70b9c",
   "metadata": {},
   "source": [
    "**Objectives:**\n",
    "1. data science languages\n",
    "2. common libraries\n",
    "3. data science tool"
   ]
  },
  {
   "cell_type": "markdown",
   "id": "20cb1716-a6e3-4da3-99d0-c18979e6a221",
   "metadata": {},
   "source": [
    "Some of the popular languages that Data Scientists use are:\n",
    "1. Python\n",
    "2. R\n",
    "3. SQL"
   ]
  },
  {
   "cell_type": "markdown",
   "id": "e57898da-c4e1-4b4d-84f3-54a62609b672",
   "metadata": {},
   "source": [
    "Some of the commonly used libraries used by Data Scientists include:\n",
    "1. Scikit-learn\n",
    "2. Numpy\n",
    "3. Keras"
   ]
  },
  {
   "cell_type": "markdown",
   "id": "d3aa1e52-c4ed-45d2-bf5b-d2d5990b2b8b",
   "metadata": {},
   "source": [
    "| Data Science Tools|\n",
    "|------------------|\n",
    "|Weka|\n",
    "|Scrapy|\n",
    "|Pandas|"
   ]
  },
  {
   "cell_type": "markdown",
   "id": "96111100-b9e8-4f2a-8498-dd7ad77e0358",
   "metadata": {},
   "source": [
    "### Below are a few examples of evaluating arithmetic expressions in Python"
   ]
  },
  {
   "cell_type": "code",
   "execution_count": 1,
   "id": "8f43e26a-0748-4943-be32-eb2a29e25e81",
   "metadata": {
    "tags": []
   },
   "outputs": [
    {
     "data": {
      "text/plain": [
       "17"
      ]
     },
     "execution_count": 1,
     "metadata": {},
     "output_type": "execute_result"
    }
   ],
   "source": [
    "#This a simple arithmetic expression to mutiply then add integers\n",
    "(3*4)+5"
   ]
  },
  {
   "cell_type": "code",
   "execution_count": 2,
   "id": "c0b0d812-e221-4344-849d-e734b94828f9",
   "metadata": {
    "tags": []
   },
   "outputs": [
    {
     "data": {
      "text/plain": [
       "33.333333333333336"
      ]
     },
     "execution_count": 2,
     "metadata": {},
     "output_type": "execute_result"
    }
   ],
   "source": [
    "#This will convert 200 minutes to hours by diving by 60\n",
    "200/6"
   ]
  },
  {
   "cell_type": "markdown",
   "id": "99411bf6-c87a-4c69-9617-5044fb3cc6e7",
   "metadata": {},
   "source": [
    "## Author\n",
    "Lian Tuan"
   ]
  },
  {
   "cell_type": "code",
   "execution_count": null,
   "id": "6947798f-2a3d-4811-8d10-998ca487d1c8",
   "metadata": {},
   "outputs": [],
   "source": []
  }
 ],
 "metadata": {
  "kernelspec": {
   "display_name": "Python",
   "language": "python",
   "name": "conda-env-python-py"
  },
  "language_info": {
   "codemirror_mode": {
    "name": "ipython",
    "version": 3
   },
   "file_extension": ".py",
   "mimetype": "text/x-python",
   "name": "python",
   "nbconvert_exporter": "python",
   "pygments_lexer": "ipython3",
   "version": "3.7.12"
  }
 },
 "nbformat": 4,
 "nbformat_minor": 5
}
